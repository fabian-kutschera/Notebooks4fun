{
 "cells": [
  {
   "cell_type": "markdown",
   "id": "f76c13b9",
   "metadata": {},
   "source": [
    "# Insert text at a specific line in a file\n",
    "\n",
    "Code idea taken from: [appending a data in a specific line of a text file in Python?](https://stackoverflow.com/questions/22779650/appending-a-data-in-a-specific-line-of-a-text-file-in-python)"
   ]
  },
  {
   "cell_type": "code",
   "execution_count": 3,
   "id": "f7144da3",
   "metadata": {},
   "outputs": [],
   "source": [
    "year = 2013\n",
    "\n",
    "with open('input/testfile.txt', 'r+') as f: #r+ does the work of rw\n",
    "    lines = f.readlines()\n",
    "    for i, line in enumerate(lines):\n",
    "        if line.startswith('March'):\n",
    "            lines[i] = lines[i].strip() + '\\n{}\\n'.format(year)\n",
    "    f.seek(0)\n",
    "    for line in lines:\n",
    "        f.write(line)"
   ]
  }
 ],
 "metadata": {
  "kernelspec": {
   "display_name": "Python 3 (ipykernel)",
   "language": "python",
   "name": "python3"
  },
  "language_info": {
   "codemirror_mode": {
    "name": "ipython",
    "version": 3
   },
   "file_extension": ".py",
   "mimetype": "text/x-python",
   "name": "python",
   "nbconvert_exporter": "python",
   "pygments_lexer": "ipython3",
   "version": "3.11.5"
  }
 },
 "nbformat": 4,
 "nbformat_minor": 5
}
