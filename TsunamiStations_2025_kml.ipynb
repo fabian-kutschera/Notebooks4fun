{
 "cells": [
  {
   "cell_type": "code",
   "execution_count": 3,
   "id": "552982ae-316d-4186-8f18-03ae6daf262a",
   "metadata": {},
   "outputs": [],
   "source": [
    "# Import packages\n",
    "import pandas as pd\n",
    "import pygmt"
   ]
  },
  {
   "cell_type": "markdown",
   "id": "726fae9b-115d-4476-873d-369170bd28ea",
   "metadata": {},
   "source": [
    "Tried with https://docs.generic-mapping-tools.org/latest/kml2gmt.html"
   ]
  },
  {
   "cell_type": "code",
   "execution_count": 20,
   "id": "e773d621-0834-4a0d-be74-07136040abe8",
   "metadata": {},
   "outputs": [
    {
     "name": "stdout",
     "output_type": "stream",
     "text": [
      "kml2gmt [ERROR]: Cannot find file input/stations.kml\n",
      "kml2gmt [ERROR]: Cannot read file input/stations.kml\n"
     ]
    }
   ],
   "source": [
    "!gmt kml2gmt \"input/stations.kml\" -Fs -V > \"input/stations.txt\""
   ]
  }
 ],
 "metadata": {
  "kernelspec": {
   "display_name": "Python 3 (ipykernel)",
   "language": "python",
   "name": "python3"
  },
  "language_info": {
   "codemirror_mode": {
    "name": "ipython",
    "version": 3
   },
   "file_extension": ".py",
   "mimetype": "text/x-python",
   "name": "python",
   "nbconvert_exporter": "python",
   "pygments_lexer": "ipython3",
   "version": "3.11.11"
  }
 },
 "nbformat": 4,
 "nbformat_minor": 5
}
